{
 "cells": [
  {
   "cell_type": "code",
   "execution_count": 1,
   "metadata": {},
   "outputs": [],
   "source": [
    "import numpy as np"
   ]
  },
  {
   "cell_type": "code",
   "execution_count": 2,
   "metadata": {},
   "outputs": [],
   "source": [
    "feats_path = '../data/HAPT/features.txt'\n",
    "label_path = '../data/HAPT/activity_labels.txt'\n",
    "\n",
    "ff = open(feats_path, 'r')\n",
    "feats = np.array(list(map(lambda x: x.strip(), ff.readlines())))\n",
    "ff.close()\n",
    "\n",
    "ll = open(label_path, 'r')\n",
    "labels = np.array(list(map(lambda x: x.strip(), ll.readlines())))\n",
    "ll.close()\n"
   ]
  },
  {
   "cell_type": "code",
   "execution_count": 3,
   "metadata": {},
   "outputs": [
    {
     "data": {
      "text/plain": [
       "(array(['tBodyAcc-Mean-1', 'tBodyAcc-Mean-2', 'tBodyAcc-Mean-3',\n",
       "        'tBodyAcc-STD-1', 'tBodyAcc-STD-2', 'tBodyAcc-STD-3',\n",
       "        'tBodyAcc-Mad-1', 'tBodyAcc-Mad-2', 'tBodyAcc-Mad-3',\n",
       "        'tBodyAcc-Max-1', 'tBodyAcc-Max-2', 'tBodyAcc-Max-3',\n",
       "        'tBodyAcc-Min-1', 'tBodyAcc-Min-2', 'tBodyAcc-Min-3',\n",
       "        'tBodyAcc-SMA-1', 'tBodyAcc-Energy-1', 'tBodyAcc-Energy-2',\n",
       "        'tBodyAcc-Energy-3', 'tBodyAcc-IQR-1', 'tBodyAcc-IQR-2',\n",
       "        'tBodyAcc-IQR-3', 'tBodyAcc-ropy-1', 'tBodyAcc-ropy-1',\n",
       "        'tBodyAcc-ropy-1', 'tBodyAcc-ARCoeff-1', 'tBodyAcc-ARCoeff-2',\n",
       "        'tBodyAcc-ARCoeff-3', 'tBodyAcc-ARCoeff-4', 'tBodyAcc-ARCoeff-5',\n",
       "        'tBodyAcc-ARCoeff-6', 'tBodyAcc-ARCoeff-7', 'tBodyAcc-ARCoeff-8',\n",
       "        'tBodyAcc-ARCoeff-9', 'tBodyAcc-ARCoeff-10', 'tBodyAcc-ARCoeff-11',\n",
       "        'tBodyAcc-ARCoeff-12', 'tBodyAcc-Correlation-1',\n",
       "        'tBodyAcc-Correlation-2', 'tBodyAcc-Correlation-3',\n",
       "        'tGravityAcc-Mean-1', 'tGravityAcc-Mean-2', 'tGravityAcc-Mean-3',\n",
       "        'tGravityAcc-STD-1', 'tGravityAcc-STD-2', 'tGravityAcc-STD-3',\n",
       "        'tGravityAcc-Mad-1', 'tGravityAcc-Mad-2', 'tGravityAcc-Mad-3',\n",
       "        'tGravityAcc-Max-1', 'tGravityAcc-Max-2', 'tGravityAcc-Max-3',\n",
       "        'tGravityAcc-Min-1', 'tGravityAcc-Min-2', 'tGravityAcc-Min-3',\n",
       "        'tGravityAcc-SMA-1', 'tGravityAcc-Energy-1',\n",
       "        'tGravityAcc-Energy-2', 'tGravityAcc-Energy-3',\n",
       "        'tGravityAcc-IQR-1', 'tGravityAcc-IQR-2', 'tGravityAcc-IQR-3',\n",
       "        'tGravityAcc-ropy-1', 'tGravityAcc-ropy-1', 'tGravityAcc-ropy-1',\n",
       "        'tGravityAcc-ARCoeff-1', 'tGravityAcc-ARCoeff-2',\n",
       "        'tGravityAcc-ARCoeff-3', 'tGravityAcc-ARCoeff-4',\n",
       "        'tGravityAcc-ARCoeff-5', 'tGravityAcc-ARCoeff-6',\n",
       "        'tGravityAcc-ARCoeff-7', 'tGravityAcc-ARCoeff-8',\n",
       "        'tGravityAcc-ARCoeff-9', 'tGravityAcc-ARCoeff-10',\n",
       "        'tGravityAcc-ARCoeff-11', 'tGravityAcc-ARCoeff-12',\n",
       "        'tGravityAcc-Correlation-1', 'tGravityAcc-Correlation-2',\n",
       "        'tGravityAcc-Correlation-3', 'tBodyAccJerk-Mean-1',\n",
       "        'tBodyAccJerk-Mean-2', 'tBodyAccJerk-Mean-3', 'tBodyAccJerk-STD-1',\n",
       "        'tBodyAccJerk-STD-2', 'tBodyAccJerk-STD-3', 'tBodyAccJerk-Mad-1',\n",
       "        'tBodyAccJerk-Mad-2', 'tBodyAccJerk-Mad-3', 'tBodyAccJerk-Max-1',\n",
       "        'tBodyAccJerk-Max-2', 'tBodyAccJerk-Max-3', 'tBodyAccJerk-Min-1',\n",
       "        'tBodyAccJerk-Min-2', 'tBodyAccJerk-Min-3', 'tBodyAccJerk-SMA-1',\n",
       "        'tBodyAccJerk-Energy-1', 'tBodyAccJerk-Energy-2',\n",
       "        'tBodyAccJerk-Energy-3', 'tBodyAccJerk-IQR-1',\n",
       "        'tBodyAccJerk-IQR-2', 'tBodyAccJerk-IQR-3', 'tBodyAccJerk-ropy-1',\n",
       "        'tBodyAccJerk-ropy-1', 'tBodyAccJerk-ropy-1',\n",
       "        'tBodyAccJerk-ARCoeff-1', 'tBodyAccJerk-ARCoeff-2',\n",
       "        'tBodyAccJerk-ARCoeff-3', 'tBodyAccJerk-ARCoeff-4',\n",
       "        'tBodyAccJerk-ARCoeff-5', 'tBodyAccJerk-ARCoeff-6',\n",
       "        'tBodyAccJerk-ARCoeff-7', 'tBodyAccJerk-ARCoeff-8',\n",
       "        'tBodyAccJerk-ARCoeff-9', 'tBodyAccJerk-ARCoeff-10',\n",
       "        'tBodyAccJerk-ARCoeff-11', 'tBodyAccJerk-ARCoeff-12',\n",
       "        'tBodyAccJerk-Correlation-1', 'tBodyAccJerk-Correlation-2',\n",
       "        'tBodyAccJerk-Correlation-3', 'tBodyGyro-Mean-1',\n",
       "        'tBodyGyro-Mean-2', 'tBodyGyro-Mean-3', 'tBodyGyro-STD-1',\n",
       "        'tBodyGyro-STD-2', 'tBodyGyro-STD-3', 'tBodyGyro-Mad-1',\n",
       "        'tBodyGyro-Mad-2', 'tBodyGyro-Mad-3', 'tBodyGyro-Max-1',\n",
       "        'tBodyGyro-Max-2', 'tBodyGyro-Max-3', 'tBodyGyro-Min-1',\n",
       "        'tBodyGyro-Min-2', 'tBodyGyro-Min-3', 'tBodyGyro-SMA-1',\n",
       "        'tBodyGyro-Energy-1', 'tBodyGyro-Energy-2', 'tBodyGyro-Energy-3',\n",
       "        'tBodyGyro-IQR-1', 'tBodyGyro-IQR-2', 'tBodyGyro-IQR-3',\n",
       "        'tBodyGyro-ropy-1', 'tBodyGyro-ropy-1', 'tBodyGyro-ropy-1',\n",
       "        'tBodyGyro-ARCoeff-1', 'tBodyGyro-ARCoeff-2',\n",
       "        'tBodyGyro-ARCoeff-3', 'tBodyGyro-ARCoeff-4',\n",
       "        'tBodyGyro-ARCoeff-5', 'tBodyGyro-ARCoeff-6',\n",
       "        'tBodyGyro-ARCoeff-7', 'tBodyGyro-ARCoeff-8',\n",
       "        'tBodyGyro-ARCoeff-9', 'tBodyGyro-ARCoeff-10',\n",
       "        'tBodyGyro-ARCoeff-11', 'tBodyGyro-ARCoeff-12',\n",
       "        'tBodyGyro-Correlation-1', 'tBodyGyro-Correlation-2',\n",
       "        'tBodyGyro-Correlation-3', 'tBodyGyroJerk-Mean-1',\n",
       "        'tBodyGyroJerk-Mean-2', 'tBodyGyroJerk-Mean-3',\n",
       "        'tBodyGyroJerk-STD-1', 'tBodyGyroJerk-STD-2',\n",
       "        'tBodyGyroJerk-STD-3', 'tBodyGyroJerk-Mad-1',\n",
       "        'tBodyGyroJerk-Mad-2', 'tBodyGyroJerk-Mad-3',\n",
       "        'tBodyGyroJerk-Max-1', 'tBodyGyroJerk-Max-2',\n",
       "        'tBodyGyroJerk-Max-3', 'tBodyGyroJerk-Min-1',\n",
       "        'tBodyGyroJerk-Min-2', 'tBodyGyroJerk-Min-3',\n",
       "        'tBodyGyroJerk-SMA-1', 'tBodyGyroJerk-Energy-1',\n",
       "        'tBodyGyroJerk-Energy-2', 'tBodyGyroJerk-Energy-3',\n",
       "        'tBodyGyroJerk-IQR-1', 'tBodyGyroJerk-IQR-2',\n",
       "        'tBodyGyroJerk-IQR-3', 'tBodyGyroJerk-ropy-1',\n",
       "        'tBodyGyroJerk-ropy-1', 'tBodyGyroJerk-ropy-1',\n",
       "        'tBodyGyroJerk-ARCoeff-1', 'tBodyGyroJerk-ARCoeff-2',\n",
       "        'tBodyGyroJerk-ARCoeff-3', 'tBodyGyroJerk-ARCoeff-4',\n",
       "        'tBodyGyroJerk-ARCoeff-5', 'tBodyGyroJerk-ARCoeff-6',\n",
       "        'tBodyGyroJerk-ARCoeff-7', 'tBodyGyroJerk-ARCoeff-8',\n",
       "        'tBodyGyroJerk-ARCoeff-9', 'tBodyGyroJerk-ARCoeff-10',\n",
       "        'tBodyGyroJerk-ARCoeff-11', 'tBodyGyroJerk-ARCoeff-12',\n",
       "        'tBodyGyroJerk-Correlation-1', 'tBodyGyroJerk-Correlation-2',\n",
       "        'tBodyGyroJerk-Correlation-3', 'tBodyAccMag-Mean-1',\n",
       "        'tBodyAccMag-STD-1', 'tBodyAccMag-Mad-1', 'tBodyAccMag-Max-1',\n",
       "        'tBodyAccMag-Min-1', 'tBodyAccMag-SMA-1', 'tBodyAccMag-Energy-1',\n",
       "        'tBodyAccMag-IQR-1', 'tBodyAccMag-ropy-1', 'tBodyAccMag-ARCoeff-1',\n",
       "        'tBodyAccMag-ARCoeff-2', 'tBodyAccMag-ARCoeff-3',\n",
       "        'tBodyAccMag-ARCoeff-4', 'tGravityAccMag-Mean-1',\n",
       "        'tGravityAccMag-STD-1', 'tGravityAccMag-Mad-1',\n",
       "        'tGravityAccMag-Max-1', 'tGravityAccMag-Min-1',\n",
       "        'tGravityAccMag-SMA-1', 'tGravityAccMag-Energy-1',\n",
       "        'tGravityAccMag-IQR-1', 'tGravityAccMag-ropy-1',\n",
       "        'tGravityAccMag-ARCoeff-1', 'tGravityAccMag-ARCoeff-2',\n",
       "        'tGravityAccMag-ARCoeff-3', 'tGravityAccMag-ARCoeff-4',\n",
       "        'tBodyAccJerkMag-Mean-1', 'tBodyAccJerkMag-STD-1',\n",
       "        'tBodyAccJerkMag-Mad-1', 'tBodyAccJerkMag-Max-1',\n",
       "        'tBodyAccJerkMag-Min-1', 'tBodyAccJerkMag-SMA-1',\n",
       "        'tBodyAccJerkMag-Energy-1', 'tBodyAccJerkMag-IQR-1',\n",
       "        'tBodyAccJerkMag-ropy-1', 'tBodyAccJerkMag-ARCoeff-1',\n",
       "        'tBodyAccJerkMag-ARCoeff-2', 'tBodyAccJerkMag-ARCoeff-3',\n",
       "        'tBodyAccJerkMag-ARCoeff-4', 'tBodyGyroMag-Mean-1',\n",
       "        'tBodyGyroMag-STD-1', 'tBodyGyroMag-Mad-1', 'tBodyGyroMag-Max-1',\n",
       "        'tBodyGyroMag-Min-1', 'tBodyGyroMag-SMA-1',\n",
       "        'tBodyGyroMag-Energy-1', 'tBodyGyroMag-IQR-1',\n",
       "        'tBodyGyroMag-ropy-1', 'tBodyGyroMag-ARCoeff-1',\n",
       "        'tBodyGyroMag-ARCoeff-2', 'tBodyGyroMag-ARCoeff-3',\n",
       "        'tBodyGyroMag-ARCoeff-4', 'tBodyGyroJerkMag-Mean-1',\n",
       "        'tBodyGyroJerkMag-STD-1', 'tBodyGyroJerkMag-Mad-1',\n",
       "        'tBodyGyroJerkMag-Max-1', 'tBodyGyroJerkMag-Min-1',\n",
       "        'tBodyGyroJerkMag-SMA-1', 'tBodyGyroJerkMag-Energy-1',\n",
       "        'tBodyGyroJerkMag-IQR-1', 'tBodyGyroJerkMag-ropy-1',\n",
       "        'tBodyGyroJerkMag-ARCoeff-1', 'tBodyGyroJerkMag-ARCoeff-2',\n",
       "        'tBodyGyroJerkMag-ARCoeff-3', 'tBodyGyroJerkMag-ARCoeff-4',\n",
       "        'fBodyAcc-Mean-1', 'fBodyAcc-Mean-2', 'fBodyAcc-Mean-3',\n",
       "        'fBodyAcc-STD-1', 'fBodyAcc-STD-2', 'fBodyAcc-STD-3',\n",
       "        'fBodyAcc-Mad-1', 'fBodyAcc-Mad-2', 'fBodyAcc-Mad-3',\n",
       "        'fBodyAcc-Max-1', 'fBodyAcc-Max-2', 'fBodyAcc-Max-3',\n",
       "        'fBodyAcc-Min-1', 'fBodyAcc-Min-2', 'fBodyAcc-Min-3',\n",
       "        'fBodyAcc-SMA-1', 'fBodyAcc-Energy-1', 'fBodyAcc-Energy-2',\n",
       "        'fBodyAcc-Energy-3', 'fBodyAcc-IQR-1', 'fBodyAcc-IQR-2',\n",
       "        'fBodyAcc-IQR-3', 'fBodyAcc-ropy-1', 'fBodyAcc-ropy-1',\n",
       "        'fBodyAcc-ropy-1', 'fBodyAcc-MaxInds-1', 'fBodyAcc-MaxInds-2',\n",
       "        'fBodyAcc-MaxInds-3', 'fBodyAcc-MeanFreq-1', 'fBodyAcc-MeanFreq-2',\n",
       "        'fBodyAcc-MeanFreq-3', 'fBodyAcc-Skewness-1',\n",
       "        'fBodyAcc-Kurtosis-1', 'fBodyAcc-Skewness-1',\n",
       "        'fBodyAcc-Kurtosis-1', 'fBodyAcc-Skewness-1',\n",
       "        'fBodyAcc-Kurtosis-1', 'fBodyAcc-BandsEnergyOld-1',\n",
       "        'fBodyAcc-BandsEnergyOld-2', 'fBodyAcc-BandsEnergyOld-3',\n",
       "        'fBodyAcc-BandsEnergyOld-4', 'fBodyAcc-BandsEnergyOld-5',\n",
       "        'fBodyAcc-BandsEnergyOld-6', 'fBodyAcc-BandsEnergyOld-7',\n",
       "        'fBodyAcc-BandsEnergyOld-8', 'fBodyAcc-BandsEnergyOld-9',\n",
       "        'fBodyAcc-BandsEnergyOld-10', 'fBodyAcc-BandsEnergyOld-11',\n",
       "        'fBodyAcc-BandsEnergyOld-12', 'fBodyAcc-BandsEnergyOld-13',\n",
       "        'fBodyAcc-BandsEnergyOld-14', 'fBodyAcc-BandsEnergyOld-15',\n",
       "        'fBodyAcc-BandsEnergyOld-16', 'fBodyAcc-BandsEnergyOld-17',\n",
       "        'fBodyAcc-BandsEnergyOld-18', 'fBodyAcc-BandsEnergyOld-19',\n",
       "        'fBodyAcc-BandsEnergyOld-20', 'fBodyAcc-BandsEnergyOld-21',\n",
       "        'fBodyAcc-BandsEnergyOld-22', 'fBodyAcc-BandsEnergyOld-23',\n",
       "        'fBodyAcc-BandsEnergyOld-24', 'fBodyAcc-BandsEnergyOld-25',\n",
       "        'fBodyAcc-BandsEnergyOld-26', 'fBodyAcc-BandsEnergyOld-27',\n",
       "        'fBodyAcc-BandsEnergyOld-28', 'fBodyAcc-BandsEnergyOld-29',\n",
       "        'fBodyAcc-BandsEnergyOld-30', 'fBodyAcc-BandsEnergyOld-31',\n",
       "        'fBodyAcc-BandsEnergyOld-32', 'fBodyAcc-BandsEnergyOld-33',\n",
       "        'fBodyAcc-BandsEnergyOld-34', 'fBodyAcc-BandsEnergyOld-35',\n",
       "        'fBodyAcc-BandsEnergyOld-36', 'fBodyAcc-BandsEnergyOld-37',\n",
       "        'fBodyAcc-BandsEnergyOld-38', 'fBodyAcc-BandsEnergyOld-39',\n",
       "        'fBodyAcc-BandsEnergyOld-40', 'fBodyAcc-BandsEnergyOld-41',\n",
       "        'fBodyAcc-BandsEnergyOld-42', 'fBodyAccJerk-Mean-1',\n",
       "        'fBodyAccJerk-Mean-2', 'fBodyAccJerk-Mean-3', 'fBodyAccJerk-STD-1',\n",
       "        'fBodyAccJerk-STD-2', 'fBodyAccJerk-STD-3', 'fBodyAccJerk-Mad-1',\n",
       "        'fBodyAccJerk-Mad-2', 'fBodyAccJerk-Mad-3', 'fBodyAccJerk-Max-1',\n",
       "        'fBodyAccJerk-Max-2', 'fBodyAccJerk-Max-3', 'fBodyAccJerk-Min-1',\n",
       "        'fBodyAccJerk-Min-2', 'fBodyAccJerk-Min-3', 'fBodyAccJerk-SMA-1',\n",
       "        'fBodyAccJerk-Energy-1', 'fBodyAccJerk-Energy-2',\n",
       "        'fBodyAccJerk-Energy-3', 'fBodyAccJerk-IQR-1',\n",
       "        'fBodyAccJerk-IQR-2', 'fBodyAccJerk-IQR-3', 'fBodyAccJerk-ropy-1',\n",
       "        'fBodyAccJerk-ropy-1', 'fBodyAccJerk-ropy-1',\n",
       "        'fBodyAccJerk-MaxInds-1', 'fBodyAccJerk-MaxInds-2',\n",
       "        'fBodyAccJerk-MaxInds-3', 'fBodyAccJerk-MeanFreq-1',\n",
       "        'fBodyAccJerk-MeanFreq-2', 'fBodyAccJerk-MeanFreq-3',\n",
       "        'fBodyAccJerk-Skewness-1', 'fBodyAccJerk-Kurtosis-1',\n",
       "        'fBodyAccJerk-Skewness-1', 'fBodyAccJerk-Kurtosis-1',\n",
       "        'fBodyAccJerk-Skewness-1', 'fBodyAccJerk-Kurtosis-1',\n",
       "        'fBodyAccJerk-BandsEnergyOld-1', 'fBodyAccJerk-BandsEnergyOld-2',\n",
       "        'fBodyAccJerk-BandsEnergyOld-3', 'fBodyAccJerk-BandsEnergyOld-4',\n",
       "        'fBodyAccJerk-BandsEnergyOld-5', 'fBodyAccJerk-BandsEnergyOld-6',\n",
       "        'fBodyAccJerk-BandsEnergyOld-7', 'fBodyAccJerk-BandsEnergyOld-8',\n",
       "        'fBodyAccJerk-BandsEnergyOld-9', 'fBodyAccJerk-BandsEnergyOld-10',\n",
       "        'fBodyAccJerk-BandsEnergyOld-11', 'fBodyAccJerk-BandsEnergyOld-12',\n",
       "        'fBodyAccJerk-BandsEnergyOld-13', 'fBodyAccJerk-BandsEnergyOld-14',\n",
       "        'fBodyAccJerk-BandsEnergyOld-15', 'fBodyAccJerk-BandsEnergyOld-16',\n",
       "        'fBodyAccJerk-BandsEnergyOld-17', 'fBodyAccJerk-BandsEnergyOld-18',\n",
       "        'fBodyAccJerk-BandsEnergyOld-19', 'fBodyAccJerk-BandsEnergyOld-20',\n",
       "        'fBodyAccJerk-BandsEnergyOld-21', 'fBodyAccJerk-BandsEnergyOld-22',\n",
       "        'fBodyAccJerk-BandsEnergyOld-23', 'fBodyAccJerk-BandsEnergyOld-24',\n",
       "        'fBodyAccJerk-BandsEnergyOld-25', 'fBodyAccJerk-BandsEnergyOld-26',\n",
       "        'fBodyAccJerk-BandsEnergyOld-27', 'fBodyAccJerk-BandsEnergyOld-28',\n",
       "        'fBodyAccJerk-BandsEnergyOld-29', 'fBodyAccJerk-BandsEnergyOld-30',\n",
       "        'fBodyAccJerk-BandsEnergyOld-31', 'fBodyAccJerk-BandsEnergyOld-32',\n",
       "        'fBodyAccJerk-BandsEnergyOld-33', 'fBodyAccJerk-BandsEnergyOld-34',\n",
       "        'fBodyAccJerk-BandsEnergyOld-35', 'fBodyAccJerk-BandsEnergyOld-36',\n",
       "        'fBodyAccJerk-BandsEnergyOld-37', 'fBodyAccJerk-BandsEnergyOld-38',\n",
       "        'fBodyAccJerk-BandsEnergyOld-39', 'fBodyAccJerk-BandsEnergyOld-40',\n",
       "        'fBodyAccJerk-BandsEnergyOld-41', 'fBodyAccJerk-BandsEnergyOld-42',\n",
       "        'fBodyGyro-Mean-1', 'fBodyGyro-Mean-2', 'fBodyGyro-Mean-3',\n",
       "        'fBodyGyro-STD-1', 'fBodyGyro-STD-2', 'fBodyGyro-STD-3',\n",
       "        'fBodyGyro-Mad-1', 'fBodyGyro-Mad-2', 'fBodyGyro-Mad-3',\n",
       "        'fBodyGyro-Max-1', 'fBodyGyro-Max-2', 'fBodyGyro-Max-3',\n",
       "        'fBodyGyro-Min-1', 'fBodyGyro-Min-2', 'fBodyGyro-Min-3',\n",
       "        'fBodyGyro-SMA-1', 'fBodyGyro-Energy-1', 'fBodyGyro-Energy-2',\n",
       "        'fBodyGyro-Energy-3', 'fBodyGyro-IQR-1', 'fBodyGyro-IQR-2',\n",
       "        'fBodyGyro-IQR-3', 'fBodyGyro-ropy-1', 'fBodyGyro-ropy-1',\n",
       "        'fBodyGyro-ropy-1', 'fBodyGyro-MaxInds-1', 'fBodyGyro-MaxInds-2',\n",
       "        'fBodyGyro-MaxInds-3', 'fBodyGyro-MeanFreq-1',\n",
       "        'fBodyGyro-MeanFreq-2', 'fBodyGyro-MeanFreq-3',\n",
       "        'fBodyGyro-Skewness-1', 'fBodyGyro-Kurtosis-1',\n",
       "        'fBodyGyro-Skewness-1', 'fBodyGyro-Kurtosis-1',\n",
       "        'fBodyGyro-Skewness-1', 'fBodyGyro-Kurtosis-1',\n",
       "        'fBodyGyro-BandsEnergyOld-1', 'fBodyGyro-BandsEnergyOld-2',\n",
       "        'fBodyGyro-BandsEnergyOld-3', 'fBodyGyro-BandsEnergyOld-4',\n",
       "        'fBodyGyro-BandsEnergyOld-5', 'fBodyGyro-BandsEnergyOld-6',\n",
       "        'fBodyGyro-BandsEnergyOld-7', 'fBodyGyro-BandsEnergyOld-8',\n",
       "        'fBodyGyro-BandsEnergyOld-9', 'fBodyGyro-BandsEnergyOld-10',\n",
       "        'fBodyGyro-BandsEnergyOld-11', 'fBodyGyro-BandsEnergyOld-12',\n",
       "        'fBodyGyro-BandsEnergyOld-13', 'fBodyGyro-BandsEnergyOld-14',\n",
       "        'fBodyGyro-BandsEnergyOld-15', 'fBodyGyro-BandsEnergyOld-16',\n",
       "        'fBodyGyro-BandsEnergyOld-17', 'fBodyGyro-BandsEnergyOld-18',\n",
       "        'fBodyGyro-BandsEnergyOld-19', 'fBodyGyro-BandsEnergyOld-20',\n",
       "        'fBodyGyro-BandsEnergyOld-21', 'fBodyGyro-BandsEnergyOld-22',\n",
       "        'fBodyGyro-BandsEnergyOld-23', 'fBodyGyro-BandsEnergyOld-24',\n",
       "        'fBodyGyro-BandsEnergyOld-25', 'fBodyGyro-BandsEnergyOld-26',\n",
       "        'fBodyGyro-BandsEnergyOld-27', 'fBodyGyro-BandsEnergyOld-28',\n",
       "        'fBodyGyro-BandsEnergyOld-29', 'fBodyGyro-BandsEnergyOld-30',\n",
       "        'fBodyGyro-BandsEnergyOld-31', 'fBodyGyro-BandsEnergyOld-32',\n",
       "        'fBodyGyro-BandsEnergyOld-33', 'fBodyGyro-BandsEnergyOld-34',\n",
       "        'fBodyGyro-BandsEnergyOld-35', 'fBodyGyro-BandsEnergyOld-36',\n",
       "        'fBodyGyro-BandsEnergyOld-37', 'fBodyGyro-BandsEnergyOld-38',\n",
       "        'fBodyGyro-BandsEnergyOld-39', 'fBodyGyro-BandsEnergyOld-40',\n",
       "        'fBodyGyro-BandsEnergyOld-41', 'fBodyGyro-BandsEnergyOld-42',\n",
       "        'fBodyAccMag-Mean-1', 'fBodyAccMag-STD-1', 'fBodyAccMag-Mad-1',\n",
       "        'fBodyAccMag-Max-1', 'fBodyAccMag-Min-1', 'fBodyAccMag-SMA-1',\n",
       "        'fBodyAccMag-Energy-1', 'fBodyAccMag-IQR-1', 'fBodyAccMag-ropy-1',\n",
       "        'fBodyAccMag-MaxInds-1', 'fBodyAccMag-MeanFreq-1',\n",
       "        'fBodyAccMag-Skewness-1', 'fBodyAccMag-Kurtosis-1',\n",
       "        'fBodyAccJerkMag-Mean-1', 'fBodyAccJerkMag-STD-1',\n",
       "        'fBodyAccJerkMag-Mad-1', 'fBodyAccJerkMag-Max-1',\n",
       "        'fBodyAccJerkMag-Min-1', 'fBodyAccJerkMag-SMA-1',\n",
       "        'fBodyAccJerkMag-Energy-1', 'fBodyAccJerkMag-IQR-1',\n",
       "        'fBodyAccJerkMag-ropy-1', 'fBodyAccJerkMag-MaxInds-1',\n",
       "        'fBodyAccJerkMag-MeanFreq-1', 'fBodyAccJerkMag-Skewness-1',\n",
       "        'fBodyAccJerkMag-Kurtosis-1', 'fBodyGyroMag-Mean-1',\n",
       "        'fBodyGyroMag-STD-1', 'fBodyGyroMag-Mad-1', 'fBodyGyroMag-Max-1',\n",
       "        'fBodyGyroMag-Min-1', 'fBodyGyroMag-SMA-1',\n",
       "        'fBodyGyroMag-Energy-1', 'fBodyGyroMag-IQR-1',\n",
       "        'fBodyGyroMag-ropy-1', 'fBodyGyroMag-MaxInds-1',\n",
       "        'fBodyGyroMag-MeanFreq-1', 'fBodyGyroMag-Skewness-1',\n",
       "        'fBodyGyroMag-Kurtosis-1', 'fBodyGyroJerkMag-Mean-1',\n",
       "        'fBodyGyroJerkMag-STD-1', 'fBodyGyroJerkMag-Mad-1',\n",
       "        'fBodyGyroJerkMag-Max-1', 'fBodyGyroJerkMag-Min-1',\n",
       "        'fBodyGyroJerkMag-SMA-1', 'fBodyGyroJerkMag-Energy-1',\n",
       "        'fBodyGyroJerkMag-IQR-1', 'fBodyGyroJerkMag-ropy-1',\n",
       "        'fBodyGyroJerkMag-MaxInds-1', 'fBodyGyroJerkMag-MeanFreq-1',\n",
       "        'fBodyGyroJerkMag-Skewness-1', 'fBodyGyroJerkMag-Kurtosis-1',\n",
       "        'tBodyAcc-AngleWRTGravity-1', 'tBodyAccJerk-AngleWRTGravity-1',\n",
       "        'tBodyGyro-AngleWRTGravity-1', 'tBodyGyroJerk-AngleWRTGravity-1',\n",
       "        'tXAxisAcc-AngleWRTGravity-1', 'tYAxisAcc-AngleWRTGravity-1',\n",
       "        'tZAxisAcc-AngleWRTGravity-1'], dtype='<U31'),\n",
       " array(['1 WALKING', '2 WALKING_UPSTAIRS', '3 WALKING_DOWNSTAIRS',\n",
       "        '4 SITTING', '5 STANDING', '6 LAYING', '7 STAND_TO_SIT',\n",
       "        '8 SIT_TO_STAND', '9 SIT_TO_LIE', '10 LIE_TO_SIT',\n",
       "        '11 STAND_TO_LIE', '12 LIE_TO_STAND'], dtype='<U20'))"
      ]
     },
     "execution_count": 3,
     "metadata": {},
     "output_type": "execute_result"
    }
   ],
   "source": [
    "feats, labels"
   ]
  },
  {
   "cell_type": "code",
   "execution_count": 4,
   "metadata": {},
   "outputs": [
    {
     "data": {
      "text/plain": [
       "(561,)"
      ]
     },
     "execution_count": 4,
     "metadata": {},
     "output_type": "execute_result"
    }
   ],
   "source": [
    "feats.shape"
   ]
  },
  {
   "cell_type": "code",
   "execution_count": 5,
   "metadata": {},
   "outputs": [
    {
     "data": {
      "text/plain": [
       "(12,)"
      ]
     },
     "execution_count": 5,
     "metadata": {},
     "output_type": "execute_result"
    }
   ],
   "source": [
    "labels.shape"
   ]
  },
  {
   "cell_type": "code",
   "execution_count": null,
   "metadata": {},
   "outputs": [],
   "source": []
  },
  {
   "cell_type": "code",
   "execution_count": 20,
   "metadata": {},
   "outputs": [
    {
     "name": "stderr",
     "output_type": "stream",
     "text": [
      "/tmp/ipykernel_14000/3914988699.py:7: DeprecationWarning: `np.int` is a deprecated alias for the builtin `int`. To silence this warning, use `int` by itself. Doing this will not modify any behavior and is safe. When replacing `np.int`, you may wish to use e.g. `np.int64` or `np.int32` to specify the precision. If you wish to review your current use, check the release note link for additional information.\n",
      "Deprecated in NumPy 1.20; for more details and guidance: https://numpy.org/devdocs/release/1.20.0-notes.html#deprecations\n",
      "  ytrain = np.array(list(map(lambda x: x.strip(), ytrain_f.readlines())), dtype=np.int) - 1\n"
     ]
    }
   ],
   "source": [
    "train_path = '../data/HAPT/Train/'\n",
    "\n",
    "xtrain_f = open(train_path + 'X_train.txt')\n",
    "ytrain_f = open(train_path + 'y_train.txt')\n",
    "\n",
    "xtrain = np.array(list(map(lambda x: x.strip().split(' '), xtrain_f.readlines())), dtype=np.float32)\n",
    "ytrain = np.array(list(map(lambda x: x.strip(), ytrain_f.readlines())), dtype=np.int) - 1\n"
   ]
  },
  {
   "cell_type": "code",
   "execution_count": 21,
   "metadata": {},
   "outputs": [
    {
     "data": {
      "text/plain": [
       "(7767, 561)"
      ]
     },
     "execution_count": 21,
     "metadata": {},
     "output_type": "execute_result"
    }
   ],
   "source": [
    "xtrain.shape"
   ]
  },
  {
   "cell_type": "code",
   "execution_count": 22,
   "metadata": {},
   "outputs": [
    {
     "data": {
      "text/plain": [
       "(7767,)"
      ]
     },
     "execution_count": 22,
     "metadata": {},
     "output_type": "execute_result"
    }
   ],
   "source": [
    "ytrain.shape"
   ]
  },
  {
   "cell_type": "code",
   "execution_count": 23,
   "metadata": {},
   "outputs": [
    {
     "data": {
      "text/plain": [
       "array([ 0.04357968, -0.00597022, -0.03505434, -0.9953812 , -0.9883659 ,\n",
       "       -0.937382  , -0.99500704, -0.9888156 , -0.9533252 , -0.79479635,\n",
       "       -0.74489284, -0.6484472 ,  0.84179556,  0.7084402 ,  0.6517165 ,\n",
       "       -0.97575206, -0.99995023, -0.99988836, -0.9980137 , -0.9939993 ,\n",
       "       -0.9919796 , -0.97097003, -0.54709536, -0.70097363, -0.6226971 ,\n",
       "        0.9218842 , -0.7194829 ,  0.342168  , -0.16131765,  0.26604897,\n",
       "       -0.27435145,  0.2672051 , -0.02095843,  0.38261023, -0.5017481 ,\n",
       "        0.5124632 , -0.20633687,  0.376778  ,  0.43517232,  0.6601985 ,\n",
       "        0.9600507 , -0.1359387 ,  0.11555554, -0.98813444, -0.98269284,\n",
       "       -0.9197227 , -0.9883619 , -0.985523  , -0.9318338 ,  0.8920545 ,\n",
       "       -0.16135044,  0.12465977,  0.9774363 , -0.12151281,  0.05611428,\n",
       "       -0.3744642 ,  0.8918215 , -0.97083557, -0.9755107 , -0.9891408 ,\n",
       "       -0.9904443 , -0.94888693, -1.        , -1.        ,  0.03424856,\n",
       "       -0.5931462 ,  0.59463584, -0.5964399 ,  0.59856033, -0.7122091 ,\n",
       "        0.70963037, -0.7074845 ,  0.7050005 , -0.99211705,  0.9926469 ,\n",
       "       -0.9928854 ,  0.99174786,  0.57026875,  0.4390651 ,  0.98691297,\n",
       "        0.07799634,  0.0050008 , -0.09778959, -0.99351907, -0.98836   ,\n",
       "       -0.993575  , -0.9944374 , -0.98620665, -0.99281836, -0.9851801 ,\n",
       "       -0.9919942 , -0.9931189 ,  0.9898347 ,  0.9919569 ,  0.9905192 ,\n",
       "       -0.9936582 , -0.99993485, -0.9998205 , -0.99987847, -0.99440676,\n",
       "       -0.98602486, -0.98869765, -0.81994927, -0.7930465 , -0.86314523,\n",
       "        0.94802636, -0.33480704,  0.714202  ,  0.49868608,  0.2966808 ,\n",
       "       -0.18951271,  0.31091163,  0.2371101 ,  0.41093662, -0.5094751 ,\n",
       "        0.47557363, -0.35220736, -0.39463088, -0.01679047, -0.15823668,\n",
       "       -0.00610085,  0.00751473, -0.06386165, -0.9853121 , -0.97660756,\n",
       "       -0.99331886, -0.98458916, -0.97632647, -0.99334145, -0.8975631 ,\n",
       "       -0.93667597, -0.76264435,  0.85429716,  0.8950316 ,  0.8308405 ,\n",
       "       -0.9671216 , -0.99957824, -0.9993543 , -0.9998181 , -0.98439956,\n",
       "       -0.9785768 , -0.9930527 ,  0.08263168,  0.17451544, -0.218437  ,\n",
       "        0.32092613, -0.45260358,  0.46613255, -0.20363231,  1.        ,\n",
       "       -1.        ,  0.35227597,  0.4483984 ,  0.7577931 , -0.7824648 ,\n",
       "        0.7037247 , -0.39910653,  0.71227413,  0.13560387,  0.30277735,\n",
       "       -0.0991674 , -0.05551737, -0.0619858 , -0.99191827, -0.99251926,\n",
       "       -0.99235237, -0.9919615 , -0.99494916, -0.9928349 , -0.99176574,\n",
       "       -0.98656476, -0.99189365,  0.9942252 ,  0.991761  ,  0.9893519 ,\n",
       "       -0.9945225 , -0.9999368 , -0.9999535 , -0.9999247 , -0.9922144 ,\n",
       "       -0.99693805, -0.99258393, -0.58985096, -0.7098365 , -0.57210684,\n",
       "        0.37466133, -0.30609444,  0.33550552, -0.07930717,  0.9895596 ,\n",
       "       -0.4549701 ,  0.38443515,  0.30763823,  0.9362318 , -0.66628164,\n",
       "        0.77220166,  0.5295849 , -0.14722121, -0.09446201,  0.35120627,\n",
       "       -0.9695463 , -0.96153975, -0.9676458 , -0.9472362 , -0.9941744 ,\n",
       "       -0.9695463 , -0.99915   , -0.9705254 , -0.21961956, -0.12407205,\n",
       "       -0.05824085,  0.17430635,  0.20162046, -0.9695463 , -0.96153975,\n",
       "       -0.9676458 , -0.9472362 , -0.9941744 , -0.9695463 , -0.99915   ,\n",
       "       -0.9705254 , -0.21961956, -0.12407205, -0.05824085,  0.17430635,\n",
       "        0.20162046, -0.9940883 , -0.99430925, -0.99442136, -0.9924356 ,\n",
       "       -0.9912085 , -0.9940883 , -0.999901  , -0.99297184, -0.86328375,\n",
       "        0.30327693, -0.2661686 , -0.1997242 ,  0.06755979, -0.9689041 ,\n",
       "       -0.9643352 , -0.95963764, -0.97510827, -0.995009  , -0.9689041 ,\n",
       "       -0.9992863 , -0.9548639 ,  0.18942007,  0.55682695, -0.83036864,\n",
       "        0.30219823,  0.4357433 , -0.9942999 , -0.99136764, -0.99314296,\n",
       "       -0.98893565, -0.99348605, -0.9942999 , -0.99994916, -0.9945472 ,\n",
       "       -0.6197676 ,  0.32912356, -0.14968175, -0.21839407, -0.03758839,\n",
       "       -0.9948098 , -0.9829841 , -0.93945533, -0.995272  , -0.98984826,\n",
       "       -0.9403345 , -0.9968244 , -0.98470306, -0.9334088 , -0.9936637 ,\n",
       "       -0.9902174 , -0.94233197, -0.9939527 , -0.9934479 , -0.9234414 ,\n",
       "       -0.9747327 , -0.9999688 , -0.9998504 , -0.9973084 , -0.9967676 ,\n",
       "       -0.9897089 , -0.9908073 , -0.9463569 , -0.9047478 , -0.59130245,\n",
       "       -1.        , -1.        , -1.        ,  0.36208165,  0.15919115,\n",
       "        0.04834979,  0.14177008, -0.15140243, -0.26064852, -0.5515419 ,\n",
       "        0.25321364, -0.01960429, -0.99996257, -0.99998736, -0.9999791 ,\n",
       "       -0.99996245, -0.9999322 , -0.99972624, -0.9996703 , -0.9999858 ,\n",
       "       -0.99996823, -0.9999769 , -0.9998685 , -0.99977607, -0.9999714 ,\n",
       "       -0.9999177 , -0.999885  , -0.99986047, -0.9998689 , -0.99986213,\n",
       "       -0.9997459 , -0.99972135, -0.9994931 , -0.9998136 , -0.9998608 ,\n",
       "       -0.9998383 , -0.99974185, -0.99961513, -0.99985576, -0.99983865,\n",
       "       -0.99742234, -0.9994706 , -0.99966204, -0.9996423 , -0.9992969 ,\n",
       "       -0.9978922 , -0.9959323 , -0.995514  , -0.9973667 , -0.9996851 ,\n",
       "       -0.9989178 , -0.99566716, -0.9973479 , -0.99945384, -0.99233246,\n",
       "       -0.9871699 , -0.9896437 , -0.9958207 , -0.9909363 , -0.9964623 ,\n",
       "       -0.99380547, -0.9905187 , -0.9971242 , -0.99674016, -0.9919751 ,\n",
       "       -0.99315673, -0.9983533 , -0.9911077 , -0.9598964 , -0.99098444,\n",
       "       -0.99993473, -0.9998205 , -0.9998845 , -0.9921642 , -0.9914196 ,\n",
       "       -0.99550235, -1.        , -1.        , -1.        ,  1.        ,\n",
       "       -0.24      , -1.        ,  0.70079273,  0.21238987,  0.36443645,\n",
       "       -0.71792865, -0.9203707 , -0.6438437 , -0.93631005, -0.48380268,\n",
       "       -0.8186798 , -0.9999866 , -0.9999804 , -0.9999748 , -0.999955  ,\n",
       "       -0.9999186 , -0.99964005, -0.99948406, -0.99996084, -0.99998254,\n",
       "       -0.9999713 , -0.99981683, -0.9994872 , -0.9999792 , -0.99985313,\n",
       "       -0.9999326 , -0.9998999 , -0.99982446, -0.9998571 , -0.9997329 ,\n",
       "       -0.9997272 , -0.9995671 , -0.9997652 , -0.9999003 , -0.99981284,\n",
       "       -0.99970526, -0.99959606, -0.9998522 , -0.9998221 , -0.9993989 ,\n",
       "       -0.9997634 , -0.99995846, -0.99994385, -0.99982464, -0.9998135 ,\n",
       "       -0.99877584, -0.9985778 , -0.9996174 , -0.9999839 , -0.99983245,\n",
       "       -0.9986762 , -0.9998443 , -0.9999223 , -0.9865897 , -0.981771  ,\n",
       "       -0.98935586, -0.9850277 , -0.973907  , -0.99497914, -0.9873397 ,\n",
       "       -0.9836522 , -0.9923087 , -0.98194784, -0.97229785, -0.99537975,\n",
       "       -0.9975689 , -0.9840871 , -0.99432635, -0.9852593 , -0.99986374,\n",
       "       -0.99966604, -0.99995315, -0.99021685, -0.9948272 , -0.9944116 ,\n",
       "       -0.7124022 , -0.6448423 , -0.83899295, -1.        , -1.        ,\n",
       "       -1.        , -0.21690764,  0.09316736,  0.45865604,  0.37353846,\n",
       "        0.13011238,  0.27333054, -0.08691794, -0.4964863 , -0.77917933,\n",
       "       -0.99986506, -0.9999322 , -0.99997216, -0.9999705 , -0.99993175,\n",
       "       -0.9999585 , -0.9999294 , -0.9999846 , -0.99986345, -0.99996686,\n",
       "       -0.999937  , -0.999954  , -0.9998644 , -0.9999619 , -0.9995685 ,\n",
       "       -0.99997807, -0.9999916 , -0.9999902 , -0.9999686 , -0.9998073 ,\n",
       "       -0.9983461 , -0.9989612 , -0.99961865, -0.99998933, -0.9999358 ,\n",
       "       -0.998388  , -0.99964267, -0.9999727 , -0.99996984, -0.99997556,\n",
       "       -0.99990577, -0.9999861 , -0.9999371 , -0.99975115, -0.99907225,\n",
       "       -0.9999275 , -0.9999657 , -0.9999092 , -0.99989295, -0.9994443 ,\n",
       "       -0.9999576 , -0.99995875, -0.9515499 , -0.9665376 , -0.9485239 ,\n",
       "       -0.98157483, -0.9216029 , -0.9515499 , -0.99898946, -0.97200656,\n",
       "       -0.64637643, -0.84210527, -0.06162903, -0.44612023, -0.797046  ,\n",
       "       -0.99361026, -0.99422604, -0.9928386 , -0.99377805, -0.9881719 ,\n",
       "       -0.99361026, -0.9999181 , -0.9917359 , -1.        , -0.93650794,\n",
       "        0.34926033, -0.51712686, -0.80100584, -0.98013484, -0.96130085,\n",
       "       -0.97412896, -0.9560129 , -0.98989373, -0.98013484, -0.99924034,\n",
       "       -0.9926734 , -0.7012914 , -1.        , -0.13248   ,  0.5656971 ,\n",
       "        0.36347753, -0.9919941 , -0.99087715, -0.99016917, -0.992521  ,\n",
       "       -0.991044  , -0.9919941 , -0.99993676, -0.9905369 , -0.8713058 ,\n",
       "       -1.        , -0.01223589, -0.31484836, -0.7133078 , -0.11275434,\n",
       "        0.03040037, -0.46476138, -0.01844588, -0.8415585 ,  0.1799128 ,\n",
       "       -0.05171842], dtype=float32)"
      ]
     },
     "execution_count": 23,
     "metadata": {},
     "output_type": "execute_result"
    }
   ],
   "source": [
    "xtrain[0]"
   ]
  },
  {
   "cell_type": "code",
   "execution_count": 24,
   "metadata": {},
   "outputs": [
    {
     "data": {
      "text/plain": [
       "4"
      ]
     },
     "execution_count": 24,
     "metadata": {},
     "output_type": "execute_result"
    }
   ],
   "source": [
    "ytrain[0]"
   ]
  },
  {
   "cell_type": "code",
   "execution_count": 26,
   "metadata": {},
   "outputs": [
    {
     "data": {
      "text/plain": [
       "'5 STANDING'"
      ]
     },
     "execution_count": 26,
     "metadata": {},
     "output_type": "execute_result"
    }
   ],
   "source": [
    "labels[ytrain[0]]"
   ]
  },
  {
   "cell_type": "code",
   "execution_count": 18,
   "metadata": {},
   "outputs": [
    {
     "data": {
      "text/plain": [
       "1"
      ]
     },
     "execution_count": 18,
     "metadata": {},
     "output_type": "execute_result"
    }
   ],
   "source": [
    "ytrain.min()"
   ]
  },
  {
   "cell_type": "code",
   "execution_count": null,
   "metadata": {},
   "outputs": [],
   "source": []
  }
 ],
 "metadata": {
  "kernelspec": {
   "display_name": "Python 3.10.6 ('lab')",
   "language": "python",
   "name": "python3"
  },
  "language_info": {
   "codemirror_mode": {
    "name": "ipython",
    "version": 3
   },
   "file_extension": ".py",
   "mimetype": "text/x-python",
   "name": "python",
   "nbconvert_exporter": "python",
   "pygments_lexer": "ipython3",
   "version": "3.10.6"
  },
  "orig_nbformat": 4,
  "vscode": {
   "interpreter": {
    "hash": "b9da2e9c0c0c9fd13764e111d0866fa4c8c10d887510490a5d14cc6478ad4baf"
   }
  }
 },
 "nbformat": 4,
 "nbformat_minor": 2
}
